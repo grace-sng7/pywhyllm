{
  "nbformat": 4,
  "nbformat_minor": 0,
  "metadata": {
    "colab": {
      "provenance": []
    },
    "kernelspec": {
      "name": "python3",
      "display_name": "Python 3"
    },
    "language_info": {
      "name": "python"
    }
  },
  "cells": [
    {
      "cell_type": "code",
      "source": [
        "pip install dotenv"
      ],
      "metadata": {
        "id": "cmZerbMu6Uk4"
      },
      "execution_count": null,
      "outputs": []
    },
    {
      "cell_type": "code",
      "execution_count": null,
      "metadata": {
        "id": "EulKv3Km4nMa"
      },
      "outputs": [],
      "source": [
        "from dotenv import load_dotenv\n",
        "import os\n",
        "\n",
        "load_dotenv()\n",
        "\n",
        "os.environ[\"OPENAI_API_KEY\"] = '' # specify your key here"
      ]
    },
    {
      "cell_type": "code",
      "source": [
        "pip install pywhyllm"
      ],
      "metadata": {
        "collapsed": true,
        "id": "83sxVcP97xlH"
      },
      "execution_count": null,
      "outputs": []
    },
    {
      "cell_type": "markdown",
      "source": [
        "Here we introduce the AugmentedModelSuggester class. Creating an instance of it enables the chosen LLM to utilize Retrieval Augmented Generation (RAG) to determine causality. It currently does this by searching the CauseNet dataset for a relevant causal pair and augmenting the LLM with the corresponding evidence/information stored in CauseNet."
      ],
      "metadata": {
        "id": "DjYECuX84vbN"
      }
    },
    {
      "cell_type": "code",
      "source": [
        "from pywhyllm.suggesters.augmented_model_suggester import AugmentedModelSuggester\n",
        "\n",
        "model = AugmentedModelSuggester('gpt-4')"
      ],
      "metadata": {
        "id": "VdfEKuDLEYcU"
      },
      "execution_count": null,
      "outputs": []
    },
    {
      "cell_type": "markdown",
      "source": [
        "AugmentedModelSuggester can suggest the pairwise relationship given two variables. If a relevant causal pair is found in CauseNet, the LLM is augmented with the aforementioned information in CauseNet. If not found, by default, the LLM will rely on its own knowledge."
      ],
      "metadata": {
        "id": "dES0LwHV57eX"
      }
    },
    {
      "cell_type": "code",
      "source": [
        "result = model.suggest_pairwise_relationship(\"smoking\", \"lung cancer\")"
      ],
      "metadata": {
        "id": "D85ec6Pk5JzA"
      },
      "execution_count": null,
      "outputs": []
    },
    {
      "cell_type": "code",
      "source": [
        "result"
      ],
      "metadata": {
        "id": "W3bFehXh5SQl"
      },
      "execution_count": null,
      "outputs": []
    },
    {
      "cell_type": "code",
      "source": [
        "result = model.suggest_pairwise_relationship(\"income\", \"exercise level\")"
      ],
      "metadata": {
        "id": "odFkp921hQsX"
      },
      "execution_count": null,
      "outputs": []
    },
    {
      "cell_type": "code",
      "source": [
        "result"
      ],
      "metadata": {
        "id": "ZIeStj9OwIPe"
      },
      "execution_count": null,
      "outputs": []
    },
    {
      "cell_type": "code",
      "source": [
        "result = model.suggest_pairwise_relationship(\"flooding\", \"rain\")"
      ],
      "metadata": {
        "id": "Fm5XCFrRwKsV"
      },
      "execution_count": null,
      "outputs": []
    },
    {
      "cell_type": "code",
      "source": [
        "result"
      ],
      "metadata": {
        "id": "HDo098ICwzi7"
      },
      "execution_count": null,
      "outputs": []
    }
  ]
}